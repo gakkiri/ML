{
 "cells": [
  {
   "cell_type": "code",
   "execution_count": 1,
   "metadata": {},
   "outputs": [],
   "source": [
    "import numpy as np\n",
    "import pandas as pd\n",
    "import matplotlib.pyplot as plt\n",
    "from scipy.io import loadmat"
   ]
  },
  {
   "cell_type": "code",
   "execution_count": 2,
   "metadata": {},
   "outputs": [],
   "source": [
    "def load_data(path):\n",
    "    data = loadmat(path)\n",
    "    X = data['X']\n",
    "    y = data['y']\n",
    "    return X,y"
   ]
  },
  {
   "cell_type": "code",
   "execution_count": 3,
   "metadata": {},
   "outputs": [
    {
     "data": {
      "text/plain": [
       "((5000, 401), (5000, 1))"
      ]
     },
     "execution_count": 3,
     "metadata": {},
     "output_type": "execute_result"
    }
   ],
   "source": [
    "X, y = load_data('ex3/ex3data1')\n",
    "X = np.hstack([np.array([[1]*len(X)]).T, X])\n",
    "X.shape, y.shape"
   ]
  },
  {
   "cell_type": "code",
   "execution_count": 5,
   "metadata": {},
   "outputs": [
    {
     "data": {
      "text/plain": [
       "array([ 1,  2,  3,  4,  5,  6,  7,  8,  9, 10], dtype=uint8)"
      ]
     },
     "execution_count": 5,
     "metadata": {},
     "output_type": "execute_result"
    }
   ],
   "source": [
    "label = np.unique(y)\n",
    "label"
   ]
  },
  {
   "cell_type": "code",
   "execution_count": 6,
   "metadata": {},
   "outputs": [],
   "source": [
    "def sigmoid(z):\n",
    "    return 1 / (1 + np.exp(-z))\n",
    "\n",
    "def h(X, theta):\n",
    "    return sigmoid(np.dot(X, theta.T))\n",
    "\n",
    "def reg_cost(X, y, theta, lamda):\n",
    "    return  ((np.sum((-y) * np.log(h(X, theta)) + (y-1) * np.log(1-h(X, theta)))) / len(X)) + ((lamda/len(X)) * theta.T[1:].T @ theta.T[1:]).squeeze()\n",
    "\n",
    "def reg_gradient(X, y, theta, lamda):\n",
    "    return ((np.dot(X.T, sigmoid(h(X, theta) - y))) / len(X)).T - np.concatenate([np.array([[0]]), (lamda / len(X)) * theta.T[1:]]).T\n",
    "\n",
    "def cost(X, y, theta):\n",
    "    h = sigmoid(np.dot(X, theta.T))\n",
    "    _sum = np.sum((-y * np.log(h)) + ((y - 1) * np.log(1 - h)))\n",
    "    return _sum / len(X)\n",
    "\n",
    "def gradient(X, y, theta):\n",
    "    return (np.dot(X.T, sigmoid(np.dot(X, theta.T)) - y) / len(X)).T\n",
    "\n",
    "def GD(X, y, theta, alpha, epoch, label=None, lamda=0.01):\n",
    "    temp = np.array([[0]*theta.shape[1]])\n",
    "    _cost = []\n",
    "    m = X.shape[0]\n",
    "    \n",
    "    for i in range(epoch):\n",
    "        temp = theta - ((alpha / m) * gradient(X, y, theta))\n",
    "        theta = temp\n",
    "        c = cost(X, y, theta)\n",
    "        _cost.append(c)\n",
    "        \n",
    "        if i % (epoch//10) == 0:\n",
    "            if label != None: print('label:', label, 'epoch:', i, 'cost:', c)\n",
    "            else: print('epoch:', i, 'cost:', c)\n",
    "    \n",
    "    return theta, _cost"
   ]
  },
  {
   "cell_type": "code",
   "execution_count": 7,
   "metadata": {},
   "outputs": [
    {
     "data": {
      "text/plain": [
       "(1, 401)"
      ]
     },
     "execution_count": 7,
     "metadata": {},
     "output_type": "execute_result"
    }
   ],
   "source": [
    "theta = np.zeros(X.shape[1]).reshape(X.shape[1], -1).T\n",
    "theta.shape"
   ]
  },
  {
   "cell_type": "code",
   "execution_count": 8,
   "metadata": {},
   "outputs": [],
   "source": [
    "y_one = np.array([1 if label == 1 else 0 for label in y]).reshape(5000, 1)"
   ]
  },
  {
   "cell_type": "code",
   "execution_count": 9,
   "metadata": {},
   "outputs": [
    {
     "data": {
      "text/plain": [
       "0.6931471805599454"
      ]
     },
     "execution_count": 9,
     "metadata": {},
     "output_type": "execute_result"
    }
   ],
   "source": [
    "cost(X, y_one, theta)"
   ]
  },
  {
   "cell_type": "code",
   "execution_count": 10,
   "metadata": {},
   "outputs": [
    {
     "data": {
      "text/plain": [
       "(1, 401)"
      ]
     },
     "execution_count": 10,
     "metadata": {},
     "output_type": "execute_result"
    }
   ],
   "source": [
    "gradient(X, y_one, theta).shape"
   ]
  },
  {
   "cell_type": "code",
   "execution_count": 14,
   "metadata": {},
   "outputs": [
    {
     "name": "stdout",
     "output_type": "stream",
     "text": [
      "epoch: 0 cost: 0.6925731005809886\n",
      "epoch: 1000 cost: 0.39828863785228724\n",
      "epoch: 2000 cost: 0.3134185742797392\n",
      "epoch: 3000 cost: 0.2765332043983766\n",
      "epoch: 4000 cost: 0.25568225290561347\n",
      "epoch: 5000 cost: 0.24166102651550292\n",
      "epoch: 6000 cost: 0.23105742612049404\n",
      "epoch: 7000 cost: 0.22238325282914756\n",
      "epoch: 8000 cost: 0.21491230687270982\n",
      "epoch: 9000 cost: 0.208259465025825\n"
     ]
    }
   ],
   "source": [
    "alpha = 0.8\n",
    "epoch = 10000\n",
    "f_theta, _cost = GD(X, y_one, theta, alpha, epoch)"
   ]
  },
  {
   "cell_type": "code",
   "execution_count": 15,
   "metadata": {},
   "outputs": [
    {
     "data": {
      "image/png": "[encoded data removed]",
      "text/plain": [
       "<Figure size 864x576 with 1 Axes>"
      ]
     },
     "metadata": {
      "needs_background": "light"
     },
     "output_type": "display_data"
    }
   ],
   "source": [
    "fig, ax = plt.subplots(figsize=(12,8))\n",
    "ax.plot(np.arange(epoch), _cost, 'r')\n",
    "ax.set_xlabel('Iterations')\n",
    "ax.set_ylabel('Cost')\n",
    "ax.set_title('Error vs. Training Epoch')\n",
    "plt.show()"
   ]
  },
  {
   "cell_type": "code",
   "execution_count": 16,
   "metadata": {},
   "outputs": [
    {
     "name": "stdout",
     "output_type": "stream",
     "text": [
      "label: 1 epoch: 0 cost: 0.6927883262884715\n",
      "label: 1 epoch: 1000 cost: 0.46409934993711915\n",
      "label: 1 epoch: 2000 cost: 0.36849837414802994\n",
      "label: 1 epoch: 3000 cost: 0.3202445147755296\n",
      "label: 1 epoch: 4000 cost: 0.2919359885862342\n",
      "label: 1 epoch: 5000 cost: 0.2733531006390731\n",
      "label: 1 epoch: 6000 cost: 0.26005743028159994\n",
      "label: 1 epoch: 7000 cost: 0.2498814158460664\n",
      "label: 1 epoch: 8000 cost: 0.24166833689996683\n",
      "label: 1 epoch: 9000 cost: 0.23475735065937506\n",
      "label: 2 epoch: 0 cost: 0.6928483800389628\n",
      "label: 2 epoch: 1000 cost: 0.5022232124212098\n",
      "label: 2 epoch: 2000 cost: 0.4233147439297985\n",
      "label: 2 epoch: 3000 cost: 0.3845205965286121\n",
      "label: 2 epoch: 4000 cost: 0.3624303032381918\n",
      "label: 2 epoch: 5000 cost: 0.34826725433231154\n",
      "label: 2 epoch: 6000 cost: 0.33825600265324246\n",
      "label: 2 epoch: 7000 cost: 0.3305887954457607\n",
      "label: 2 epoch: 8000 cost: 0.3243270182653761\n",
      "label: 2 epoch: 9000 cost: 0.3189522815576739\n",
      "label: 3 epoch: 0 cost: 0.6928494636688718\n",
      "label: 3 epoch: 1000 cost: 0.5027612450635437\n",
      "label: 3 epoch: 2000 cost: 0.4238726415032417\n",
      "label: 3 epoch: 3000 cost: 0.38493814822291067\n",
      "label: 3 epoch: 4000 cost: 0.3626467794002981\n",
      "label: 3 epoch: 5000 cost: 0.34825758779949173\n",
      "label: 3 epoch: 6000 cost: 0.33801156623944106\n",
      "label: 3 epoch: 7000 cost: 0.33010995814173755\n",
      "label: 3 epoch: 8000 cost: 0.3236196046187844\n",
      "label: 3 epoch: 9000 cost: 0.31802561027805243\n",
      "label: 4 epoch: 0 cost: 0.6928270552342233\n",
      "label: 4 epoch: 1000 cost: 0.48872614958479615\n",
      "label: 4 epoch: 2000 cost: 0.40404270753858434\n",
      "label: 4 epoch: 3000 cost: 0.36212363767764166\n",
      "label: 4 epoch: 4000 cost: 0.3381047253375733\n",
      "label: 4 epoch: 5000 cost: 0.3226755959191271\n",
      "label: 4 epoch: 6000 cost: 0.3118128046263541\n",
      "label: 4 epoch: 7000 cost: 0.3035729759888017\n",
      "label: 4 epoch: 8000 cost: 0.2969349423226397\n",
      "label: 4 epoch: 9000 cost: 0.2913263437789323\n",
      "label: 5 epoch: 0 cost: 0.692834926710175\n",
      "label: 5 epoch: 1000 cost: 0.49427035161284194\n",
      "label: 5 epoch: 2000 cost: 0.4128904442135394\n",
      "label: 5 epoch: 3000 cost: 0.373540961052025\n",
      "label: 5 epoch: 4000 cost: 0.35175349781504256\n",
      "label: 5 epoch: 5000 cost: 0.3383511782990576\n",
      "label: 5 epoch: 6000 cost: 0.3293693685607756\n",
      "label: 5 epoch: 7000 cost: 0.322896045570908\n",
      "label: 5 epoch: 8000 cost: 0.31792897899555145\n",
      "label: 5 epoch: 9000 cost: 0.31390824310368126\n",
      "label: 6 epoch: 0 cost: 0.6928418421926404\n",
      "label: 6 epoch: 1000 cost: 0.49751242668242596\n",
      "label: 6 epoch: 2000 cost: 0.41576016860212667\n",
      "label: 6 epoch: 3000 cost: 0.374811014170614\n",
      "label: 6 epoch: 4000 cost: 0.35089919794447844\n",
      "label: 6 epoch: 5000 cost: 0.3351130647108828\n",
      "label: 6 epoch: 6000 cost: 0.3236137892466209\n",
      "label: 6 epoch: 7000 cost: 0.3145592463472665\n",
      "label: 6 epoch: 8000 cost: 0.30699031640839425\n",
      "label: 6 epoch: 9000 cost: 0.3003755624430041\n",
      "label: 7 epoch: 0 cost: 0.6928218492229429\n",
      "label: 7 epoch: 1000 cost: 0.4852803920787006\n",
      "label: 7 epoch: 2000 cost: 0.3988392916389632\n",
      "label: 7 epoch: 3000 cost: 0.35570318961981273\n",
      "label: 7 epoch: 4000 cost: 0.3306996843449094\n",
      "label: 7 epoch: 5000 cost: 0.3144134954112295\n",
      "label: 7 epoch: 6000 cost: 0.30277559186894243\n",
      "label: 7 epoch: 7000 cost: 0.2938189931108537\n",
      "label: 7 epoch: 8000 cost: 0.2865088080033562\n",
      "label: 7 epoch: 9000 cost: 0.28026407347662746\n",
      "label: 8 epoch: 0 cost: 0.6928661006480985\n",
      "label: 8 epoch: 1000 cost: 0.5142777245045429\n",
      "label: 8 epoch: 2000 cost: 0.44169523626219964\n",
      "label: 8 epoch: 3000 cost: 0.40716748237040074\n",
      "label: 8 epoch: 4000 cost: 0.3883816605505994\n",
      "label: 8 epoch: 5000 cost: 0.3769758647468522\n",
      "label: 8 epoch: 6000 cost: 0.3693689620369991\n",
      "label: 8 epoch: 7000 cost: 0.36385880044709823\n",
      "label: 8 epoch: 8000 cost: 0.3595700293372565\n",
      "label: 8 epoch: 9000 cost: 0.3560247048142164\n",
      "label: 9 epoch: 0 cost: 0.6928401482410463\n",
      "label: 9 epoch: 1000 cost: 0.49761343439979544\n",
      "label: 9 epoch: 2000 cost: 0.4175881044610994\n",
      "label: 9 epoch: 3000 cost: 0.3788121971416262\n",
      "label: 9 epoch: 4000 cost: 0.3572257471719083\n",
      "label: 9 epoch: 5000 cost: 0.34382267585460624\n",
      "label: 9 epoch: 6000 cost: 0.33472316724689244\n",
      "label: 9 epoch: 7000 cost: 0.3280626932365856\n",
      "label: 9 epoch: 8000 cost: 0.32286790296341733\n",
      "label: 9 epoch: 9000 cost: 0.3185974469425724\n",
      "label: 10 epoch: 0 cost: 0.6928587763970939\n",
      "label: 10 epoch: 1000 cost: 0.5059100611671511\n",
      "label: 10 epoch: 2000 cost: 0.42448195601620975\n",
      "label: 10 epoch: 3000 cost: 0.381411857800362\n",
      "label: 10 epoch: 4000 cost: 0.3544811140219809\n",
      "label: 10 epoch: 5000 cost: 0.335322668582618\n",
      "label: 10 epoch: 6000 cost: 0.32034464746944563\n",
      "label: 10 epoch: 7000 cost: 0.30783839425440124\n",
      "label: 10 epoch: 8000 cost: 0.2969247324456148\n",
      "label: 10 epoch: 9000 cost: 0.28712239437778864\n"
     ]
    }
   ],
   "source": [
    "K_theta = []\n",
    "alpha = 0.5\n",
    "epoch = 10000\n",
    "\n",
    "for i in range(1, len(label) + 1):\n",
    "    theta = np.zeros(X.shape[1]).reshape(X.shape[1], -1).T\n",
    "    y_i = np.array([1 if label == i else 0 for label in y]).reshape(5000, 1)\n",
    "    \n",
    "    f_theta, _cost = GD(X, y_i, theta, alpha, epoch, i)\n",
    "    K_theta.append(f_theta)\n"
   ]
  },
  {
   "cell_type": "code",
   "execution_count": 17,
   "metadata": {},
   "outputs": [],
   "source": [
    "K_theta = np.array(K_theta).squeeze()"
   ]
  },
  {
   "cell_type": "code",
   "execution_count": 18,
   "metadata": {},
   "outputs": [
    {
     "data": {
      "text/plain": [
       "(10, 401)"
      ]
     },
     "execution_count": 18,
     "metadata": {},
     "output_type": "execute_result"
    }
   ],
   "source": [
    "K_theta.shape"
   ]
  },
  {
   "cell_type": "code",
   "execution_count": 19,
   "metadata": {},
   "outputs": [
    {
     "name": "stdout",
     "output_type": "stream",
     "text": [
      "accuracy = 77.3%\n"
     ]
    }
   ],
   "source": [
    "def predict_all(X, all_theta): \n",
    "    h = sigmoid(X @ all_theta.T)\n",
    "    h_argmax = np.argmax(h, axis=1)\n",
    "    h_argmax = h_argmax + 1\n",
    "    return h_argmax\n",
    "\n",
    "raw_X, raw_y = load_data('ex3/ex3data1')\n",
    "X = np.insert(raw_X, 0, 1, axis=1)\n",
    "y = raw_y.flatten()\n",
    "\n",
    "y_pred = predict_all(X, K_theta)\n",
    "accuracy = np.mean(y_pred == y)\n",
    "print ('accuracy = {0}%'.format(accuracy * 100))"
   ]
  },
  {
   "cell_type": "code",
   "execution_count": null,
   "metadata": {},
   "outputs": [],
   "source": []
  }
 ],
 "metadata": {
  "kernelspec": {
   "display_name": "Python 3",
   "language": "python",
   "name": "python3"
  },
  "language_info": {
   "codemirror_mode": {
    "name": "ipython",
    "version": 3
   },
   "file_extension": ".py",
   "mimetype": "text/x-python",
   "name": "python",
   "nbconvert_exporter": "python",
   "pygments_lexer": "ipython3",
   "version": "3.6.8"
  }
 },
 "nbformat": 4,
 "nbformat_minor": 2
}
