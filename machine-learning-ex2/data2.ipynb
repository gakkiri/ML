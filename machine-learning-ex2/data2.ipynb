{
 "cells": [
  {
   "cell_type": "code",
   "execution_count": 1,
   "metadata": {},
   "outputs": [],
   "source": [
    "%matplotlib inline\n",
    "import numpy as np\n",
    "import pandas as pd\n",
    "import matplotlib.pyplot as plt"
   ]
  },
  {
   "cell_type": "code",
   "execution_count": 2,
   "metadata": {},
   "outputs": [
    {
     "data": {
      "text/html": [
       "<div>\n",
       "<style scoped>\n",
       "    .dataframe tbody tr th:only-of-type {\n",
       "        vertical-align: middle;\n",
       "    }\n",
       "\n",
       "    .dataframe tbody tr th {\n",
       "        vertical-align: top;\n",
       "    }\n",
       "\n",
       "    .dataframe thead th {\n",
       "        text-align: right;\n",
       "    }\n",
       "</style>\n",
       "<table border=\"1\" class=\"dataframe\">\n",
       "  <thead>\n",
       "    <tr style=\"text-align: right;\">\n",
       "      <th></th>\n",
       "      <th>Test 1</th>\n",
       "      <th>Test 2</th>\n",
       "      <th>Accepted</th>\n",
       "    </tr>\n",
       "  </thead>\n",
       "  <tbody>\n",
       "    <tr>\n",
       "      <th>0</th>\n",
       "      <td>0.051267</td>\n",
       "      <td>0.69956</td>\n",
       "      <td>1</td>\n",
       "    </tr>\n",
       "    <tr>\n",
       "      <th>1</th>\n",
       "      <td>-0.092742</td>\n",
       "      <td>0.68494</td>\n",
       "      <td>1</td>\n",
       "    </tr>\n",
       "    <tr>\n",
       "      <th>2</th>\n",
       "      <td>-0.213710</td>\n",
       "      <td>0.69225</td>\n",
       "      <td>1</td>\n",
       "    </tr>\n",
       "    <tr>\n",
       "      <th>3</th>\n",
       "      <td>-0.375000</td>\n",
       "      <td>0.50219</td>\n",
       "      <td>1</td>\n",
       "    </tr>\n",
       "    <tr>\n",
       "      <th>4</th>\n",
       "      <td>-0.513250</td>\n",
       "      <td>0.46564</td>\n",
       "      <td>1</td>\n",
       "    </tr>\n",
       "  </tbody>\n",
       "</table>\n",
       "</div>"
      ],
      "text/plain": [
       "     Test 1   Test 2  Accepted\n",
       "0  0.051267  0.69956         1\n",
       "1 -0.092742  0.68494         1\n",
       "2 -0.213710  0.69225         1\n",
       "3 -0.375000  0.50219         1\n",
       "4 -0.513250  0.46564         1"
      ]
     },
     "execution_count": 2,
     "metadata": {},
     "output_type": "execute_result"
    }
   ],
   "source": [
    "data = pd.read_csv('ex2/ex2data2.txt', names=['Test 1', 'Test 2', 'Accepted'])\n",
    "data.head()"
   ]
  },
  {
   "cell_type": "code",
   "execution_count": 3,
   "metadata": {},
   "outputs": [
    {
     "data": {
      "image/png": "[encoded data removed]",
      "text/plain": [
       "<Figure size 432x360 with 1 Axes>"
      ]
     },
     "metadata": {
      "needs_background": "light"
     },
     "output_type": "display_data"
    }
   ],
   "source": [
    "pos = data[data.Accepted.isin(['1'])]\n",
    "neg = data[data.Accepted.isin(['0'])]\n",
    "\n",
    "fig, ax = plt.subplots(figsize=(6,5))\n",
    "ax.scatter(pos['Test 1'], pos['Test 2'], c='b', label='Accepted')\n",
    "ax.scatter(neg['Test 1'], neg['Test 2'], c='r', label='Not Accepted', marker='x')\n",
    "\n",
    "ax.set_xlabel('Test 1 Score')\n",
    "ax.set_ylabel('Test 2 Score')\n",
    "plt.show()"
   ]
  },
  {
   "cell_type": "code",
   "execution_count": 4,
   "metadata": {},
   "outputs": [],
   "source": [
    "def sigmoid(z):\n",
    "    return 1 / (1 + np.exp(-z))\n",
    "\n",
    "def cost(X, y, theta):\n",
    "    h = sigmoid(np.dot(X, theta.T))\n",
    "    _sum = np.sum((-y * np.log(h)) - ((1 - y) * np.log(1 - h)))\n",
    "    return _sum / len(X)\n",
    "\n",
    "def gradient(X, y, theta):\n",
    "    return (np.dot(X.T, sigmoid(np.dot(X, theta.T)) - y) / len(X)).T\n",
    "\n",
    "def GD(X, y, theta, alpha, epoch):\n",
    "    temp = np.array([[0]*theta.shape[1]])\n",
    "    _cost = []\n",
    "    m = X.shape[0]\n",
    "    \n",
    "    for i in range(epoch):\n",
    "        temp = theta - (alpha / m) * gradient(X, y, theta)\n",
    "        theta = temp\n",
    "        _cost.append(cost(X, y, theta))\n",
    "        \n",
    "        if i % 5000 == 0:\n",
    "            print('epoch:', i, 'cost:', theta[0])\n",
    "    \n",
    "    return theta, _cost\n",
    "\n",
    "def feature_mapping(x1, x2, power):\n",
    "    data = {}\n",
    "    for i in np.arange(power + 1):\n",
    "        for p in np.arange(i + 1):\n",
    "            data[\"f{}{}\".format(i - p, p)] = np.power(x1, i - p) * np.power(x2, p)\n",
    "\n",
    "    return pd.DataFrame(data)"
   ]
  },
  {
   "cell_type": "code",
   "execution_count": 5,
   "metadata": {},
   "outputs": [
    {
     "data": {
      "text/html": [
       "<div>\n",
       "<style scoped>\n",
       "    .dataframe tbody tr th:only-of-type {\n",
       "        vertical-align: middle;\n",
       "    }\n",
       "\n",
       "    .dataframe tbody tr th {\n",
       "        vertical-align: top;\n",
       "    }\n",
       "\n",
       "    .dataframe thead th {\n",
       "        text-align: right;\n",
       "    }\n",
       "</style>\n",
       "<table border=\"1\" class=\"dataframe\">\n",
       "  <thead>\n",
       "    <tr style=\"text-align: right;\">\n",
       "      <th></th>\n",
       "      <th>ones</th>\n",
       "      <th>Test 1</th>\n",
       "      <th>Test 2</th>\n",
       "      <th>Accepted</th>\n",
       "    </tr>\n",
       "  </thead>\n",
       "  <tbody>\n",
       "    <tr>\n",
       "      <th>0</th>\n",
       "      <td>1</td>\n",
       "      <td>0.051267</td>\n",
       "      <td>0.69956</td>\n",
       "      <td>1</td>\n",
       "    </tr>\n",
       "    <tr>\n",
       "      <th>1</th>\n",
       "      <td>1</td>\n",
       "      <td>-0.092742</td>\n",
       "      <td>0.68494</td>\n",
       "      <td>1</td>\n",
       "    </tr>\n",
       "    <tr>\n",
       "      <th>2</th>\n",
       "      <td>1</td>\n",
       "      <td>-0.213710</td>\n",
       "      <td>0.69225</td>\n",
       "      <td>1</td>\n",
       "    </tr>\n",
       "    <tr>\n",
       "      <th>3</th>\n",
       "      <td>1</td>\n",
       "      <td>-0.375000</td>\n",
       "      <td>0.50219</td>\n",
       "      <td>1</td>\n",
       "    </tr>\n",
       "    <tr>\n",
       "      <th>4</th>\n",
       "      <td>1</td>\n",
       "      <td>-0.513250</td>\n",
       "      <td>0.46564</td>\n",
       "      <td>1</td>\n",
       "    </tr>\n",
       "  </tbody>\n",
       "</table>\n",
       "</div>"
      ],
      "text/plain": [
       "   ones    Test 1   Test 2  Accepted\n",
       "0     1  0.051267  0.69956         1\n",
       "1     1 -0.092742  0.68494         1\n",
       "2     1 -0.213710  0.69225         1\n",
       "3     1 -0.375000  0.50219         1\n",
       "4     1 -0.513250  0.46564         1"
      ]
     },
     "execution_count": 5,
     "metadata": {},
     "output_type": "execute_result"
    }
   ],
   "source": [
    "data.insert(0, 'ones', 1)\n",
    "data.head()"
   ]
  },
  {
   "cell_type": "code",
   "execution_count": 6,
   "metadata": {},
   "outputs": [],
   "source": [
    "X = np.array(data.iloc[:,:-1])\n",
    "y = np.array(data.iloc[:, -1:])"
   ]
  },
  {
   "cell_type": "code",
   "execution_count": 7,
   "metadata": {},
   "outputs": [],
   "source": [
    "X = np.hstack([X, np.power(X[:,1:2], 2)])\n",
    "X = np.hstack([X, np.power(X[:,2:3], 2)])"
   ]
  },
  {
   "cell_type": "code",
   "execution_count": 8,
   "metadata": {},
   "outputs": [
    {
     "data": {
      "text/plain": [
       "((118, 5), (118, 1), (1, 5))"
      ]
     },
     "execution_count": 8,
     "metadata": {},
     "output_type": "execute_result"
    }
   ],
   "source": [
    "theta = np.array([[0]*X.shape[1]])\n",
    "X.shape, y.shape, theta.shape"
   ]
  },
  {
   "cell_type": "code",
   "execution_count": 9,
   "metadata": {},
   "outputs": [
    {
     "data": {
      "text/plain": [
       "0.6931471805599454"
      ]
     },
     "execution_count": 9,
     "metadata": {},
     "output_type": "execute_result"
    }
   ],
   "source": [
    "cost(X, y, theta)"
   ]
  },
  {
   "cell_type": "code",
   "execution_count": 10,
   "metadata": {},
   "outputs": [
    {
     "data": {
      "text/plain": [
       "array([[8.47457627e-03, 1.87880932e-02, 7.77711864e-05, 5.03446395e-02,\n",
       "        3.76648474e-02]])"
      ]
     },
     "execution_count": 10,
     "metadata": {},
     "output_type": "execute_result"
    }
   ],
   "source": [
    "gradient(X, y, theta)"
   ]
  },
  {
   "cell_type": "code",
   "execution_count": 11,
   "metadata": {},
   "outputs": [
    {
     "name": "stdout",
     "output_type": "stream",
     "text": [
      "epoch: 0 cost: [-5.74547544e-05 -1.27376903e-04 -5.27262281e-07 -3.41319590e-04\n",
      " -2.55354897e-04]\n",
      "epoch: 5000 cost: [ 0.4612939  -0.10366083  0.18650009 -1.23222899 -0.9205842 ]\n",
      "epoch: 10000 cost: [ 0.87042466  0.05333084  0.39745618 -2.1367816  -1.6687874 ]\n",
      "epoch: 15000 cost: [ 1.19821566  0.20738751  0.59146904 -2.85826493 -2.3018763 ]\n",
      "epoch: 20000 cost: [ 1.46993259  0.33619697  0.76083656 -3.45054605 -2.84262264]\n",
      "epoch: 25000 cost: [ 1.69957202  0.4432138   0.90752493 -3.94715853 -3.30842917]\n",
      "epoch: 30000 cost: [ 1.89645968  0.53335527  1.03504624 -4.37061277 -3.713052  ]\n",
      "epoch: 35000 cost: [ 2.06725554  0.6104081   1.14661671 -4.73660908 -4.06734094]\n",
      "epoch: 40000 cost: [ 2.21687515  0.67711534  1.24488809 -5.0564503  -4.37983571]\n",
      "epoch: 45000 cost: [ 2.34903179  0.73548084  1.33199563 -5.33850523 -4.65728306]\n",
      "epoch: 50000 cost: [ 2.46658669  0.78699979  1.40965466 -5.58912538 -4.90505443]\n",
      "epoch: 55000 cost: [ 2.57178397  0.83281263  1.47925004 -5.81323671 -5.12746744]\n",
      "epoch: 60000 cost: [ 2.66641197  0.87380694  1.54190842 -6.01473228 -5.32802833]\n",
      "epoch: 65000 cost: [ 2.75191635  0.91068594  1.59855427 -6.19673992 -5.50961355]\n",
      "epoch: 70000 cost: [ 2.82948082  0.9440157   1.64995297 -6.36180918 -5.67460605]\n",
      "epoch: 75000 cost: [ 2.90008584  0.97425827  1.6967436  -6.51204474 -5.82499827]\n",
      "epoch: 80000 cost: [ 2.96455195  1.00179547  1.73946424 -6.64920366 -5.96247046]\n",
      "epoch: 85000 cost: [ 3.0235723   1.02694635  1.77857142 -6.77476745 -6.08845093]\n",
      "epoch: 90000 cost: [ 3.07773732  1.04998008  1.81445533 -6.88999645 -6.20416281]\n",
      "epoch: 95000 cost: [ 3.12755387  1.07112582  1.84745168 -6.99597145 -6.31066059]\n",
      "epoch: 100000 cost: [ 3.17345999  1.09058016  1.87785115 -7.09362592 -6.40885912]\n",
      "epoch: 105000 cost: [ 3.21583673  1.108513    1.90590687 -7.18377133 -6.49955664]\n",
      "epoch: 110000 cost: [ 3.25501739  1.12507208  1.93184044 -7.2671173  -6.58345333]\n",
      "epoch: 115000 cost: [ 3.29129509  1.14038669  1.95584686 -7.34428768 -6.6611664 ]\n",
      "epoch: 120000 cost: [ 3.32492883  1.15457051  1.97809849 -7.41583363 -6.73324236]\n",
      "epoch: 125000 cost: [ 3.3561485   1.16772404  1.99874831 -7.48224426 -6.80016714]\n",
      "epoch: 130000 cost: [ 3.38515897  1.1799365   2.01793267 -7.54395539 -6.86237447]\n",
      "epoch: 135000 cost: [ 3.41214348  1.19128743  2.03577352 -7.60135687 -6.92025287]\n",
      "epoch: 140000 cost: [ 3.43726651  1.20184801  2.0523803  -7.65479861 -6.97415154]\n",
      "epoch: 145000 cost: [ 3.4606762   1.21168215  2.06785154 -7.7045957  -7.02438525]\n",
      "epoch: 150000 cost: [ 3.48250632  1.22084744  2.0822762  -7.75103269 -7.07123859]\n",
      "epoch: 155000 cost: [ 3.50287802  1.22939588  2.09573485 -7.79436731 -7.11496955]\n",
      "epoch: 160000 cost: [ 3.52190131  1.23737463  2.10830057 -7.83483356 -7.15581254]\n",
      "epoch: 165000 cost: [ 3.5396763   1.24482649  2.1200399  -7.8726444  -7.19398107]\n",
      "epoch: 170000 cost: [ 3.55629432  1.25179044  2.13101348 -7.90799408 -7.22967001]\n",
      "epoch: 175000 cost: [ 3.57183882  1.25830207  2.14127673 -7.94106015 -7.2630576 ]\n",
      "epoch: 180000 cost: [ 3.58638624  1.26439389  2.15088038 -7.9720052  -7.29430712]\n",
      "epoch: 185000 cost: [ 3.60000671  1.27009569  2.15987096 -8.0009784  -7.32356847]\n",
      "epoch: 190000 cost: [ 3.61276464  1.27543483  2.16829121 -8.02811679 -7.35097944]\n",
      "epoch: 195000 cost: [ 3.62471935  1.28043644  2.17618044 -8.05354654 -7.37666691]\n"
     ]
    }
   ],
   "source": [
    "alpha = 0.8\n",
    "epoch = 200000\n",
    "f_theta, his_cost = GD(X, y, theta, alpha, epoch)"
   ]
  },
  {
   "cell_type": "code",
   "execution_count": 12,
   "metadata": {},
   "outputs": [
    {
     "data": {
      "image/png": "[encoded data removed]",
      "text/plain": [
       "<Figure size 864x576 with 1 Axes>"
      ]
     },
     "metadata": {
      "needs_background": "light"
     },
     "output_type": "display_data"
    }
   ],
   "source": [
    "fig, ax = plt.subplots(figsize=(12,8))\n",
    "ax.plot(np.arange(epoch), his_cost, 'r')\n",
    "ax.set_xlabel('Iterations')\n",
    "ax.set_ylabel('Cost')\n",
    "ax.set_title('Error vs. Training Epoch')\n",
    "plt.show()"
   ]
  },
  {
   "cell_type": "code",
   "execution_count": 15,
   "metadata": {},
   "outputs": [],
   "source": [
    "def predict(theta, X):\n",
    "    prob = sigmoid(np.dot(X, theta.T))\n",
    "    return [1 if x >= 0.5 else 0 for x in prob]"
   ]
  },
  {
   "cell_type": "code",
   "execution_count": 16,
   "metadata": {},
   "outputs": [
    {
     "data": {
      "text/plain": [
       "0.8050847457627118"
      ]
     },
     "execution_count": 16,
     "metadata": {},
     "output_type": "execute_result"
    }
   ],
   "source": [
    "predictions = predict(f_theta, X)\n",
    "correct = [1 if a==b else 0 for (a, b) in zip(predictions, y)]\n",
    "accuracy = sum(correct) / len(correct)\n",
    "accuracy"
   ]
  },
  {
   "cell_type": "markdown",
   "metadata": {},
   "source": [
    "# SKLEARN"
   ]
  },
  {
   "cell_type": "code",
   "execution_count": 17,
   "metadata": {},
   "outputs": [
    {
     "data": {
      "text/plain": [
       "LogisticRegression(C=1.0, class_weight=None, dual=False, fit_intercept=True,\n",
       "          intercept_scaling=1, max_iter=100, multi_class='ovr', n_jobs=1,\n",
       "          penalty='l2', random_state=None, solver='liblinear', tol=0.0001,\n",
       "          verbose=0, warm_start=False)"
      ]
     },
     "execution_count": 17,
     "metadata": {},
     "output_type": "execute_result"
    }
   ],
   "source": [
    "from sklearn import linear_model\n",
    "\n",
    "model = linear_model.LogisticRegression(C=1.0, class_weight=None, dual=False, fit_intercept=True,\n",
    "          intercept_scaling=1, max_iter=100, multi_class='ovr', n_jobs=1,\n",
    "          penalty='l2', random_state=None, solver='liblinear', tol=0.0001,\n",
    "          verbose=0, warm_start=False)\n",
    "\n",
    "model.fit(X, y.ravel())"
   ]
  },
  {
   "cell_type": "code",
   "execution_count": 19,
   "metadata": {},
   "outputs": [
    {
     "data": {
      "text/plain": [
       "0.7711864406779662"
      ]
     },
     "execution_count": 19,
     "metadata": {},
     "output_type": "execute_result"
    }
   ],
   "source": [
    "model.score(X, y)"
   ]
  },
  {
   "cell_type": "code",
   "execution_count": 21,
   "metadata": {},
   "outputs": [
    {
     "name": "stdout",
     "output_type": "stream",
     "text": [
      "              precision    recall  f1-score   support\n",
      "\n",
      "           0       0.82      0.80      0.81        61\n",
      "           1       0.79      0.81      0.80        57\n",
      "\n",
      "   micro avg       0.81      0.81      0.81       118\n",
      "   macro avg       0.80      0.81      0.80       118\n",
      "weighted avg       0.81      0.81      0.81       118\n",
      "\n"
     ]
    }
   ],
   "source": [
    "from sklearn.metrics import classification_report\n",
    "print(classification_report(predictions, y))"
   ]
  }
 ],
 "metadata": {
  "kernelspec": {
   "display_name": "Python 3",
   "language": "python",
   "name": "python3"
  },
  "language_info": {
   "codemirror_mode": {
    "name": "ipython",
    "version": 3
   },
   "file_extension": ".py",
   "mimetype": "text/x-python",
   "name": "python",
   "nbconvert_exporter": "python",
   "pygments_lexer": "ipython3",
   "version": "3.6.8"
  }
 },
 "nbformat": 4,
 "nbformat_minor": 2
}
