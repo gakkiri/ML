{
 "cells": [
  {
   "cell_type": "code",
   "execution_count": 1,
   "metadata": {},
   "outputs": [],
   "source": [
    "%matplotlib inline\n",
    "import numpy as np\n",
    "import pandas as pd\n",
    "import matplotlib.pyplot as plt"
   ]
  },
  {
   "cell_type": "code",
   "execution_count": 2,
   "metadata": {},
   "outputs": [
    {
     "data": {
      "text/html": [
       "<div>\n",
       "<style scoped>\n",
       "    .dataframe tbody tr th:only-of-type {\n",
       "        vertical-align: middle;\n",
       "    }\n",
       "\n",
       "    .dataframe tbody tr th {\n",
       "        vertical-align: top;\n",
       "    }\n",
       "\n",
       "    .dataframe thead th {\n",
       "        text-align: right;\n",
       "    }\n",
       "</style>\n",
       "<table border=\"1\" class=\"dataframe\">\n",
       "  <thead>\n",
       "    <tr style=\"text-align: right;\">\n",
       "      <th></th>\n",
       "      <th>exam1</th>\n",
       "      <th>exam2</th>\n",
       "      <th>admitted</th>\n",
       "    </tr>\n",
       "  </thead>\n",
       "  <tbody>\n",
       "    <tr>\n",
       "      <th>0</th>\n",
       "      <td>34.623660</td>\n",
       "      <td>78.024693</td>\n",
       "      <td>0</td>\n",
       "    </tr>\n",
       "    <tr>\n",
       "      <th>1</th>\n",
       "      <td>30.286711</td>\n",
       "      <td>43.894998</td>\n",
       "      <td>0</td>\n",
       "    </tr>\n",
       "    <tr>\n",
       "      <th>2</th>\n",
       "      <td>35.847409</td>\n",
       "      <td>72.902198</td>\n",
       "      <td>0</td>\n",
       "    </tr>\n",
       "    <tr>\n",
       "      <th>3</th>\n",
       "      <td>60.182599</td>\n",
       "      <td>86.308552</td>\n",
       "      <td>1</td>\n",
       "    </tr>\n",
       "    <tr>\n",
       "      <th>4</th>\n",
       "      <td>79.032736</td>\n",
       "      <td>75.344376</td>\n",
       "      <td>1</td>\n",
       "    </tr>\n",
       "  </tbody>\n",
       "</table>\n",
       "</div>"
      ],
      "text/plain": [
       "       exam1      exam2  admitted\n",
       "0  34.623660  78.024693         0\n",
       "1  30.286711  43.894998         0\n",
       "2  35.847409  72.902198         0\n",
       "3  60.182599  86.308552         1\n",
       "4  79.032736  75.344376         1"
      ]
     },
     "execution_count": 2,
     "metadata": {},
     "output_type": "execute_result"
    }
   ],
   "source": [
    "data = pd.read_csv('ex2/ex2data1.txt', names=['exam1', 'exam2', 'admitted'])\n",
    "data.head()"
   ]
  },
  {
   "cell_type": "code",
   "execution_count": 3,
   "metadata": {},
   "outputs": [
    {
     "data": {
      "image/png": "[encoded data removed]",
      "text/plain": [
       "<Figure size 432x360 with 1 Axes>"
      ]
     },
     "metadata": {
      "needs_background": "light"
     },
     "output_type": "display_data"
    }
   ],
   "source": [
    "pos = data[data.admitted.isin(['1'])]\n",
    "neg = data[data.admitted.isin(['0'])]\n",
    "\n",
    "fig, ax = plt.subplots(figsize=(6,5))\n",
    "ax.scatter(pos['exam1'], pos['exam2'], c='b', label='Admitted')\n",
    "ax.scatter(neg['exam1'], neg['exam2'], c='r', label='Not Admitted', marker='x')\n",
    "\n",
    "ax.set_xlabel('Exam 1 Score')\n",
    "ax.set_ylabel('Exam 2 Score')\n",
    "plt.show()"
   ]
  },
  {
   "cell_type": "code",
   "execution_count": 4,
   "metadata": {},
   "outputs": [],
   "source": [
    "def sigmoid(z):\n",
    "    return 1 / (1 + np.exp(-z))"
   ]
  },
  {
   "cell_type": "code",
   "execution_count": 5,
   "metadata": {},
   "outputs": [],
   "source": [
    "def cost(X, y, theta):\n",
    "    h = sigmoid(np.dot(X, theta.T))\n",
    "    _sum = np.sum((-y * np.log(h)) - ((1 - y) * np.log(1 - h)))\n",
    "    return _sum / len(X)"
   ]
  },
  {
   "cell_type": "code",
   "execution_count": 6,
   "metadata": {},
   "outputs": [],
   "source": [
    "def gradient(X, y, theta):\n",
    "    return (np.dot(X.T, sigmoid(np.dot(X, theta.T)) - y) / len(X)).T"
   ]
  },
  {
   "cell_type": "code",
   "execution_count": 27,
   "metadata": {},
   "outputs": [],
   "source": [
    "def GD(X, y, theta, alpha, epoch):\n",
    "    temp = np.array([[0]*theta.shape[1]])\n",
    "    _cost = []\n",
    "    m = X.shape[0]\n",
    "    \n",
    "    for i in range(epoch):\n",
    "        temp = theta - (alpha / m) * gradient(X, y, theta)\n",
    "        theta = temp\n",
    "        _cost.append(cost(X, y, theta))\n",
    "        \n",
    "        if i % 5000 == 0:\n",
    "            print('epoch:', i, 'cost:', theta[0])\n",
    "    \n",
    "    return theta, _cost"
   ]
  },
  {
   "cell_type": "code",
   "execution_count": 8,
   "metadata": {},
   "outputs": [
    {
     "data": {
      "text/html": [
       "<div>\n",
       "<style scoped>\n",
       "    .dataframe tbody tr th:only-of-type {\n",
       "        vertical-align: middle;\n",
       "    }\n",
       "\n",
       "    .dataframe tbody tr th {\n",
       "        vertical-align: top;\n",
       "    }\n",
       "\n",
       "    .dataframe thead th {\n",
       "        text-align: right;\n",
       "    }\n",
       "</style>\n",
       "<table border=\"1\" class=\"dataframe\">\n",
       "  <thead>\n",
       "    <tr style=\"text-align: right;\">\n",
       "      <th></th>\n",
       "      <th>ones</th>\n",
       "      <th>exam1</th>\n",
       "      <th>exam2</th>\n",
       "      <th>admitted</th>\n",
       "    </tr>\n",
       "  </thead>\n",
       "  <tbody>\n",
       "    <tr>\n",
       "      <th>0</th>\n",
       "      <td>1</td>\n",
       "      <td>34.623660</td>\n",
       "      <td>78.024693</td>\n",
       "      <td>0</td>\n",
       "    </tr>\n",
       "    <tr>\n",
       "      <th>1</th>\n",
       "      <td>1</td>\n",
       "      <td>30.286711</td>\n",
       "      <td>43.894998</td>\n",
       "      <td>0</td>\n",
       "    </tr>\n",
       "    <tr>\n",
       "      <th>2</th>\n",
       "      <td>1</td>\n",
       "      <td>35.847409</td>\n",
       "      <td>72.902198</td>\n",
       "      <td>0</td>\n",
       "    </tr>\n",
       "    <tr>\n",
       "      <th>3</th>\n",
       "      <td>1</td>\n",
       "      <td>60.182599</td>\n",
       "      <td>86.308552</td>\n",
       "      <td>1</td>\n",
       "    </tr>\n",
       "    <tr>\n",
       "      <th>4</th>\n",
       "      <td>1</td>\n",
       "      <td>79.032736</td>\n",
       "      <td>75.344376</td>\n",
       "      <td>1</td>\n",
       "    </tr>\n",
       "  </tbody>\n",
       "</table>\n",
       "</div>"
      ],
      "text/plain": [
       "   ones      exam1      exam2  admitted\n",
       "0     1  34.623660  78.024693         0\n",
       "1     1  30.286711  43.894998         0\n",
       "2     1  35.847409  72.902198         0\n",
       "3     1  60.182599  86.308552         1\n",
       "4     1  79.032736  75.344376         1"
      ]
     },
     "execution_count": 8,
     "metadata": {},
     "output_type": "execute_result"
    }
   ],
   "source": [
    "data.insert(0, 'ones', 1)\n",
    "data.head()"
   ]
  },
  {
   "cell_type": "code",
   "execution_count": 9,
   "metadata": {},
   "outputs": [
    {
     "data": {
      "text/plain": [
       "((100, 3), (100, 1), (1, 3))"
      ]
     },
     "execution_count": 9,
     "metadata": {},
     "output_type": "execute_result"
    }
   ],
   "source": [
    "X = np.array(data.iloc[:,:-1])\n",
    "y = np.array(data.iloc[:, -1:])\n",
    "theta = np.array([[0]*X.shape[1]])\n",
    "X.shape, y.shape, theta.shape"
   ]
  },
  {
   "cell_type": "code",
   "execution_count": 10,
   "metadata": {},
   "outputs": [
    {
     "data": {
      "text/plain": [
       "0.6931471805599453"
      ]
     },
     "execution_count": 10,
     "metadata": {},
     "output_type": "execute_result"
    }
   ],
   "source": [
    "cost(X, y, theta)"
   ]
  },
  {
   "cell_type": "code",
   "execution_count": 11,
   "metadata": {},
   "outputs": [
    {
     "data": {
      "text/plain": [
       "array([[ -0.1       , -12.00921659, -11.26284221]])"
      ]
     },
     "execution_count": 11,
     "metadata": {},
     "output_type": "execute_result"
    }
   ],
   "source": [
    "gradient(X, y, theta)"
   ]
  },
  {
   "cell_type": "code",
   "execution_count": 28,
   "metadata": {},
   "outputs": [
    {
     "name": "stdout",
     "output_type": "stream",
     "text": [
      "epoch: 0 cost: [0.0001     0.01200922 0.01126284]\n",
      "epoch: 5000 cost: [-0.34172467  0.01280219  0.00311026]\n",
      "epoch: 10000 cost: [-0.66903009  0.01509195  0.00566287]\n",
      "epoch: 15000 cost: [-0.98258299  0.01729802  0.00811298]\n",
      "epoch: 20000 cost: [-1.28307085  0.01942402  0.01046468]\n",
      "epoch: 25000 cost: [-1.57118725  0.02147362  0.01272234]\n",
      "epoch: 30000 cost: [-1.84761893  0.02345052  0.01489053]\n",
      "epoch: 35000 cost: [-2.11303582  0.02535835  0.01697385]\n",
      "epoch: 40000 cost: [-2.36808384  0.02720063  0.01897689]\n",
      "epoch: 45000 cost: [-2.61337989  0.02898077  0.02090411]\n",
      "epoch: 50000 cost: [-2.84950889  0.03070203  0.02275987]\n",
      "epoch: 55000 cost: [-3.07702217  0.03236751  0.02454829]\n",
      "epoch: 60000 cost: [-3.29643712  0.03398016  0.02627331]\n",
      "epoch: 65000 cost: [-3.50823755  0.03554276  0.02793866]\n",
      "epoch: 70000 cost: [-3.71287475  0.03705793  0.02954783]\n",
      "epoch: 75000 cost: [-3.91076887  0.03852814  0.03110409]\n",
      "epoch: 80000 cost: [-4.10231056  0.03995569  0.0326105 ]\n",
      "epoch: 85000 cost: [-4.28786273  0.04134277  0.03406991]\n",
      "epoch: 90000 cost: [-4.46776242  0.04269141  0.03548497]\n",
      "epoch: 95000 cost: [-4.64232254  0.04400352  0.03685815]\n",
      "epoch: 100000 cost: [-4.81183369  0.04528089  0.03819176]\n",
      "epoch: 105000 cost: [-4.9765658   0.0465252   0.03948791]\n",
      "epoch: 110000 cost: [-5.13676975  0.04773801  0.0407486 ]\n",
      "epoch: 115000 cost: [-5.29267887  0.04892081  0.04197568]\n",
      "epoch: 120000 cost: [-5.44451027  0.05007497  0.04317085]\n",
      "epoch: 125000 cost: [-5.59246621  0.05120179  0.04433571]\n",
      "epoch: 130000 cost: [-5.73673521  0.05230249  0.04547176]\n",
      "epoch: 135000 cost: [-5.87749321  0.05337821  0.04658038]\n",
      "epoch: 140000 cost: [-6.0149045   0.05443003  0.04766288]\n",
      "epoch: 145000 cost: [-6.14912271  0.05545896  0.04872045]\n",
      "epoch: 150000 cost: [-6.28029156  0.05646596  0.04975423]\n",
      "epoch: 155000 cost: [-6.40854574  0.05745191  0.05076528]\n",
      "epoch: 160000 cost: [-6.5340115   0.05841768  0.05175459]\n",
      "epoch: 165000 cost: [-6.65680738  0.05936405  0.05272309]\n",
      "epoch: 170000 cost: [-6.77704473  0.06029178  0.05367166]\n",
      "epoch: 175000 cost: [-6.89482828  0.06120159  0.05460112]\n",
      "epoch: 180000 cost: [-7.01025664  0.06209414  0.05551223]\n",
      "epoch: 185000 cost: [-7.12342271  0.06297009  0.05640573]\n",
      "epoch: 190000 cost: [-7.23441413  0.06383002  0.05728229]\n",
      "epoch: 195000 cost: [-7.34331363  0.06467451  0.05814257]\n"
     ]
    }
   ],
   "source": [
    "alpha = 0.1\n",
    "epoch = 200000\n",
    "f_theta, his_cost = GD(X, y, theta, alpha, epoch)"
   ]
  },
  {
   "cell_type": "code",
   "execution_count": 29,
   "metadata": {},
   "outputs": [
    {
     "data": {
      "image/png": "[encoded data removed]",
      "text/plain": [
       "<Figure size 576x360 with 1 Axes>"
      ]
     },
     "metadata": {
      "needs_background": "light"
     },
     "output_type": "display_data"
    }
   ],
   "source": [
    "x1 = np.arange(130, step=0.1)\n",
    "x2 = -(f_theta[0][0] + x1*f_theta[0][1]) / f_theta[0][2]\n",
    "\n",
    "fig, ax = plt.subplots(figsize=(8,5))\n",
    "ax.scatter(pos['exam1'], pos['exam2'], c='b', label='Admitted')\n",
    "ax.scatter(neg['exam1'], neg['exam2'], s=50, c='r', marker='x', label='Not Admitted')\n",
    "ax.plot(x1, x2)\n",
    "ax.set_xlim(0, 130)\n",
    "ax.set_ylim(0, 130)\n",
    "ax.set_xlabel('x1')\n",
    "ax.set_ylabel('x2')\n",
    "ax.set_title('Decision Boundary')\n",
    "plt.show()"
   ]
  },
  {
   "cell_type": "code",
   "execution_count": null,
   "metadata": {},
   "outputs": [],
   "source": []
  }
 ],
 "metadata": {
  "kernelspec": {
   "display_name": "Python 3",
   "language": "python",
   "name": "python3"
  },
  "language_info": {
   "codemirror_mode": {
    "name": "ipython",
    "version": 3
   },
   "file_extension": ".py",
   "mimetype": "text/x-python",
   "name": "python",
   "nbconvert_exporter": "python",
   "pygments_lexer": "ipython3",
   "version": "3.6.8"
  }
 },
 "nbformat": 4,
 "nbformat_minor": 2
}
