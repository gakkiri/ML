{
 "cells": [
  {
   "cell_type": "code",
   "execution_count": 1,
   "metadata": {},
   "outputs": [],
   "source": [
    "import numpy as np\n",
    "import matplotlib.pyplot as plt\n",
    "from scipy.io import loadmat\n",
    "import scipy.optimize as opt"
   ]
  },
  {
   "cell_type": "markdown",
   "metadata": {},
   "source": [
    "# loda data"
   ]
  },
  {
   "cell_type": "code",
   "execution_count": 2,
   "metadata": {},
   "outputs": [
    {
     "data": {
      "text/plain": [
       "((5000, 400), (5000, 1), (25, 401), (10, 26))"
      ]
     },
     "execution_count": 2,
     "metadata": {},
     "output_type": "execute_result"
    }
   ],
   "source": [
    "data = loadmat('ex4/ex4data1.mat')\n",
    "X = data['X']\n",
    "y = data['y'].flatten().reshape(-1, 1)\n",
    "\n",
    "data = loadmat('ex4/ex4weights.mat')\n",
    "theta1 = data['Theta1']\n",
    "theta2 = data['Theta2']\n",
    "\n",
    "X.shape, y.shape, theta1.shape, theta2.shape"
   ]
  },
  {
   "cell_type": "markdown",
   "metadata": {},
   "source": [
    "input layer: 400 + 1\n",
    "hidden layer: 25 + 1\n",
    "output layer: 10"
   ]
  },
  {
   "cell_type": "markdown",
   "metadata": {},
   "source": [
    "# visualizing the data"
   ]
  },
  {
   "cell_type": "code",
   "execution_count": 3,
   "metadata": {},
   "outputs": [
    {
     "data": {
      "image/png": "[encoded data removed]",
      "text/plain": [
       "<Figure size 432x288 with 1 Axes>"
      ]
     },
     "metadata": {},
     "output_type": "display_data"
    }
   ],
   "source": [
    "img = X[0]\n",
    "img = img.reshape(20, 20)\n",
    "\n",
    "plt.imshow(img, cmap='gray_r')\n",
    "plt.xticks([])\n",
    "plt.yticks([])\n",
    "plt.show()"
   ]
  },
  {
   "cell_type": "markdown",
   "metadata": {},
   "source": [
    "# preprocessing"
   ]
  },
  {
   "cell_type": "code",
   "execution_count": 4,
   "metadata": {},
   "outputs": [
    {
     "name": "stderr",
     "output_type": "stream",
     "text": [
      "G:\\anaconda\\lib\\site-packages\\sklearn\\preprocessing\\_encoders.py:368: FutureWarning: The handling of integer data will change in version 0.22. Currently, the categories are determined based on the range [0, max(values)], while in the future they will be determined based on the unique values.\n",
      "If you want the future behaviour and silence this warning, you can specify \"categories='auto'\".\n",
      "In case you used a LabelEncoder before this OneHotEncoder to convert the categories to integers, then you can now use the OneHotEncoder directly.\n",
      "  warnings.warn(msg, FutureWarning)\n"
     ]
    },
    {
     "data": {
      "text/plain": [
       "(5000, 10)"
      ]
     },
     "execution_count": 4,
     "metadata": {},
     "output_type": "execute_result"
    }
   ],
   "source": [
    "from sklearn.preprocessing import OneHotEncoder\n",
    "\n",
    "encoder = OneHotEncoder(sparse=False)\n",
    "y_onehot = encoder.fit_transform(y)\n",
    "\n",
    "y_onehot.shape"
   ]
  },
  {
   "cell_type": "code",
   "execution_count": 5,
   "metadata": {},
   "outputs": [
    {
     "data": {
      "text/plain": [
       "(5000, 401)"
      ]
     },
     "execution_count": 5,
     "metadata": {},
     "output_type": "execute_result"
    }
   ],
   "source": [
    "X = np.insert(X, 0, 1, axis=1)\n",
    "X.shape"
   ]
  },
  {
   "cell_type": "markdown",
   "metadata": {},
   "source": [
    "# forward"
   ]
  },
  {
   "cell_type": "code",
   "execution_count": 6,
   "metadata": {},
   "outputs": [],
   "source": [
    "def sigmoid(z):\n",
    "    return 1 / (1 + np.exp(-z))\n",
    "\n",
    "def forward(X, theta1, theta2):\n",
    "    # input layer\n",
    "    a1 = X\n",
    "    \n",
    "    # hidden layer(only)\n",
    "    z2 = np.dot(a1, theta1.T)\n",
    "    z2 = sigmoid(z2)\n",
    "    a2 = np.insert(z2, 0, 1, axis=1) # 25 + 1\n",
    "    \n",
    "    # output layer\n",
    "    z3 = np.dot(a2, theta2.T)\n",
    "    a3 = sigmoid(z3) # h\n",
    "    \n",
    "    return a1, z2, a2, z3, a3"
   ]
  },
  {
   "cell_type": "code",
   "execution_count": 7,
   "metadata": {},
   "outputs": [
    {
     "data": {
      "text/plain": [
       "((5000, 401), (5000, 25), (5000, 26), (5000, 10), (5000, 10))"
      ]
     },
     "execution_count": 7,
     "metadata": {},
     "output_type": "execute_result"
    }
   ],
   "source": [
    "a1, z2, a2, z3, h = forward(X, theta1, theta2)\n",
    "a1.shape, z2.shape, a2.shape, z3.shape, h.shape"
   ]
  },
  {
   "cell_type": "markdown",
   "metadata": {},
   "source": [
    "# cost function"
   ]
  },
  {
   "cell_type": "code",
   "execution_count": 8,
   "metadata": {},
   "outputs": [],
   "source": [
    "def cost(theta1, theta2, X, y):\n",
    "    _, _, _, _, h = forward(X, theta1, theta2)\n",
    "    J = (-y * np.log(h)) - ((1 - y) * np.log(1 - h))\n",
    "    \n",
    "    return J.sum() / len(X)\n",
    "\n",
    "def reg_cost(theta1, theta2, X, y, l=0):\n",
    "    J = cost(theta1, theta2, X, y)\n",
    "    reg = (l / (2*len(X))) * (np.sum(np.power(theta1[:, 1:], 2)) + np.sum(np.power(theta2[:, 1:], 2)))\n",
    "    \n",
    "    return J + reg"
   ]
  },
  {
   "cell_type": "code",
   "execution_count": 9,
   "metadata": {},
   "outputs": [
    {
     "data": {
      "text/plain": [
       "(0.2876291651613189, 0.38376985909092365)"
      ]
     },
     "execution_count": 9,
     "metadata": {},
     "output_type": "execute_result"
    }
   ],
   "source": [
    "cost(theta1, theta2, X, y_onehot), reg_cost(theta1, theta2, X, y_onehot, 1)"
   ]
  },
  {
   "cell_type": "markdown",
   "metadata": {},
   "source": [
    "# backward"
   ]
  },
  {
   "cell_type": "code",
   "execution_count": 10,
   "metadata": {},
   "outputs": [],
   "source": [
    "'''\n",
    "a1 (5000, 401)\n",
    "z2 (5000, 25)\n",
    "a2 (5000, 26)\n",
    "z3 (5000, 10)\n",
    "h  (5000, 10)\n",
    "theta1 (25, 401)\n",
    "theta2 (10, 26)\n",
    "'''\n",
    "\n",
    "def sigmoid_gradient(z):\n",
    "    return sigmoid(z) * (1 - sigmoid(z))\n",
    "\n",
    "def gradient(theta1, theta2, X, y):\n",
    "    a1, z2, a2, z3, h = forward(X, theta1, theta2)\n",
    "    d3 = h - y # (5000, 10)\n",
    "    d2 = np.dot(d3, theta2[:, 1:]) * sigmoid_gradient(z2) # no bias  (5000, 25)\n",
    "    \n",
    "    D2 = np.dot(d3.T, a2) # same with theta2 -> (10, 26)\n",
    "    D1 = np.dot(d2.T, a1) # same with theta1 -> (25, 401)\n",
    "    \n",
    "    return D1 / len(X), D2 / len(X)\n",
    "\n",
    "def reg_gradient(theta1, theta2, X, y, l):\n",
    "    D1, D2 = gradient(theta1, theta2, X, y)\n",
    "    \n",
    "    theta1[:, 0] = 0\n",
    "    theta2[:, 0] = 0\n",
    "    reg_D1 = D1 + (l / len(X)) * theta1\n",
    "    reg_D2 = D2 + (l / len(X)) * theta2\n",
    "    \n",
    "    return reg_D1, reg_D2"
   ]
  },
  {
   "cell_type": "markdown",
   "metadata": {},
   "source": [
    "# gradient descent"
   ]
  },
  {
   "cell_type": "code",
   "execution_count": 11,
   "metadata": {},
   "outputs": [],
   "source": [
    "def GD(theta1, theta2, X, y, lr, epoch, l=0):\n",
    "    \n",
    "    cost = np.zeros(epoch)\n",
    "    for i in range(epoch):\n",
    "        D1, D2 = reg_gradient(theta1, theta2, X, y, l)\n",
    "\n",
    "        theta1_temp = theta1 - (lr * D1)\n",
    "        theta2_temp = theta2 - (lr * D2)\n",
    "\n",
    "        theta1 = theta1_temp\n",
    "        theta2 = theta2_temp\n",
    "        \n",
    "        cost[i] = reg_cost(theta1, theta2, X, y, l)\n",
    "        if i % (epoch//10) == 0: \n",
    "            print('epoch: ', i+1, 'cost:', cost[i])\n",
    "    \n",
    "    return theta1, theta2, cost"
   ]
  },
  {
   "cell_type": "markdown",
   "metadata": {},
   "source": [
    "# init weight"
   ]
  },
  {
   "cell_type": "code",
   "execution_count": 12,
   "metadata": {},
   "outputs": [],
   "source": [
    "def init_weight(theta1, theta2):\n",
    "    size = theta1.shape[0]*theta1.shape[1] + theta2.shape[0]*theta2.shape[1]\n",
    "    weight_flat = np.random.uniform(-0.12, 0.12, size)\n",
    "    theta1 = weight_flat[:theta1.shape[0]*theta1.shape[1]].reshape(theta1.shape[0], theta1.shape[1])\n",
    "    theta2 = weight_flat[:theta2.shape[0]*theta2.shape[1]].reshape(theta2.shape[0], theta2.shape[1])\n",
    "    return theta1, theta2"
   ]
  },
  {
   "cell_type": "code",
   "execution_count": 13,
   "metadata": {},
   "outputs": [
    {
     "data": {
      "text/plain": [
       "((25, 401), (10, 26))"
      ]
     },
     "execution_count": 13,
     "metadata": {},
     "output_type": "execute_result"
    }
   ],
   "source": [
    "init_theta1, init_theta2 = init_weight(theta1, theta2)\n",
    "init_theta1.shape, init_theta2.shape"
   ]
  },
  {
   "cell_type": "markdown",
   "metadata": {},
   "source": [
    "# train"
   ]
  },
  {
   "cell_type": "code",
   "execution_count": 14,
   "metadata": {},
   "outputs": [],
   "source": [
    "lr = 0.8\n",
    "epoch = 500\n",
    "l = 1"
   ]
  },
  {
   "cell_type": "code",
   "execution_count": 15,
   "metadata": {},
   "outputs": [
    {
     "name": "stdout",
     "output_type": "stream",
     "text": [
      "epoch:  1 cost: 3.2857622100027317\n",
      "epoch:  51 cost: 2.199040707814492\n",
      "epoch:  101 cost: 1.4853874661237385\n",
      "epoch:  151 cost: 1.2206865818361368\n",
      "epoch:  201 cost: 1.1032004023589186\n",
      "epoch:  251 cost: 1.0476013795111183\n",
      "epoch:  301 cost: 1.0223788923086414\n",
      "epoch:  351 cost: 1.0145312611193171\n",
      "epoch:  401 cost: 1.0168471346776315\n",
      "epoch:  451 cost: 1.0253857264760393\n"
     ]
    }
   ],
   "source": [
    "train_theta1, train_theta2, recorder_cost = GD(init_theta1, init_theta2, X, y_onehot, lr, epoch, l)"
   ]
  },
  {
   "cell_type": "markdown",
   "metadata": {},
   "source": [
    "# recorder loss"
   ]
  },
  {
   "cell_type": "code",
   "execution_count": 16,
   "metadata": {},
   "outputs": [
    {
     "data": {
      "image/png": "[encoded data removed]",
      "text/plain": [
       "<Figure size 864x576 with 1 Axes>"
      ]
     },
     "metadata": {
      "needs_background": "light"
     },
     "output_type": "display_data"
    }
   ],
   "source": [
    "fig, ax = plt.subplots(figsize=(12,8))\n",
    "ax.plot(np.arange(epoch), recorder_cost, 'r')\n",
    "ax.set_xlabel('Iterations')\n",
    "ax.set_ylabel('Cost')\n",
    "ax.set_title('Error vs. Training Epoch')\n",
    "plt.show()"
   ]
  },
  {
   "cell_type": "markdown",
   "metadata": {},
   "source": [
    "# accuracy"
   ]
  },
  {
   "cell_type": "code",
   "execution_count": 17,
   "metadata": {},
   "outputs": [
    {
     "name": "stdout",
     "output_type": "stream",
     "text": [
      "              precision    recall  f1-score   support\n",
      "\n",
      "           1       0.93      0.94      0.93       500\n",
      "           2       0.84      0.87      0.85       500\n",
      "           3       0.84      0.88      0.86       500\n",
      "           4       0.91      0.85      0.88       500\n",
      "           5       0.90      0.74      0.81       500\n",
      "           6       0.93      0.93      0.93       500\n",
      "           7       0.94      0.87      0.90       500\n",
      "           8       0.79      0.87      0.83       500\n",
      "           9       0.86      0.89      0.87       500\n",
      "          10       0.89      0.97      0.93       500\n",
      "\n",
      "   micro avg       0.88      0.88      0.88      5000\n",
      "   macro avg       0.88      0.88      0.88      5000\n",
      "weighted avg       0.88      0.88      0.88      5000\n",
      "\n"
     ]
    }
   ],
   "source": [
    "from sklearn.metrics import classification_report\n",
    "\n",
    "_, _, _, _, h = forward(X, train_theta1, train_theta2)\n",
    "y_pred = np.argmax(h, axis=1) + 1\n",
    "print(classification_report(y, y_pred))"
   ]
  }
 ],
 "metadata": {
  "kernelspec": {
   "display_name": "Python 3",
   "language": "python",
   "name": "python3"
  },
  "language_info": {
   "codemirror_mode": {
    "name": "ipython",
    "version": 3
   },
   "file_extension": ".py",
   "mimetype": "text/x-python",
   "name": "python",
   "nbconvert_exporter": "python",
   "pygments_lexer": "ipython3",
   "version": "3.6.8"
  }
 },
 "nbformat": 4,
 "nbformat_minor": 2
}
