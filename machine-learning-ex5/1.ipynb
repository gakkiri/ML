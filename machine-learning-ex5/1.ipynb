{
 "cells": [
  {
   "cell_type": "code",
   "execution_count": 1,
   "metadata": {},
   "outputs": [],
   "source": [
    "%matplotlib inline\n",
    "\n",
    "import numpy as np\n",
    "import matplotlib.pyplot as plt\n",
    "from scipy.io import loadmat\n",
    "import copy"
   ]
  },
  {
   "cell_type": "markdown",
   "metadata": {},
   "source": [
    "The regularized linear regression is realized to predict the change of water level in the reservoir, so as to predict the outflow of water from the dam"
   ]
  },
  {
   "cell_type": "markdown",
   "metadata": {},
   "source": [
    "# Visualizing"
   ]
  },
  {
   "cell_type": "code",
   "execution_count": 2,
   "metadata": {},
   "outputs": [
    {
     "data": {
      "text/plain": [
       "array([[-15.93675813],\n",
       "       [-29.15297922],\n",
       "       [ 36.18954863],\n",
       "       [ 37.49218733],\n",
       "       [-48.05882945]])"
      ]
     },
     "execution_count": 2,
     "metadata": {},
     "output_type": "execute_result"
    }
   ],
   "source": [
    "data = loadmat('ex5/ex5data1.mat')\n",
    "data['X'][:5]"
   ]
  },
  {
   "cell_type": "code",
   "execution_count": 3,
   "metadata": {},
   "outputs": [
    {
     "data": {
      "text/plain": [
       "((12, 1), (12, 1))"
      ]
     },
     "execution_count": 3,
     "metadata": {},
     "output_type": "execute_result"
    }
   ],
   "source": [
    "X_train = data['X']\n",
    "y_train = data['y']\n",
    "\n",
    "X_train.shape, y_train.shape"
   ]
  },
  {
   "cell_type": "code",
   "execution_count": 4,
   "metadata": {},
   "outputs": [
    {
     "data": {
      "text/plain": [
       "((21, 1), (21, 1))"
      ]
     },
     "execution_count": 4,
     "metadata": {},
     "output_type": "execute_result"
    }
   ],
   "source": [
    "X_val = data['Xval']\n",
    "y_val = data['yval']\n",
    "\n",
    "X_val.shape, y_val.shape"
   ]
  },
  {
   "cell_type": "code",
   "execution_count": 5,
   "metadata": {},
   "outputs": [
    {
     "data": {
      "text/plain": [
       "((21, 1), (21, 1))"
      ]
     },
     "execution_count": 5,
     "metadata": {},
     "output_type": "execute_result"
    }
   ],
   "source": [
    "X_test = data['Xtest']\n",
    "y_test = data['ytest']\n",
    "\n",
    "X_test.shape, y_test.shape"
   ]
  },
  {
   "cell_type": "code",
   "execution_count": 6,
   "metadata": {},
   "outputs": [
    {
     "data": {
      "text/plain": [
       "((12, 2), (12, 1), (21, 2), (21, 1), (21, 2), (21, 1))"
      ]
     },
     "execution_count": 6,
     "metadata": {},
     "output_type": "execute_result"
    }
   ],
   "source": [
    "X_train = np.insert(X_train, 0, 1, axis=1)\n",
    "\n",
    "X_val = np.insert(X_val, 0, 1, axis=1)\n",
    "\n",
    "X_test = np.insert(X_test, 0, 1, axis=1)\n",
    "\n",
    "X_train.shape, y_train.shape, X_val.shape, y_val.shape, X_test.shape, y_test.shape"
   ]
  },
  {
   "cell_type": "code",
   "execution_count": 7,
   "metadata": {},
   "outputs": [
    {
     "data": {
      "text/plain": [
       "(2, 1)"
      ]
     },
     "execution_count": 7,
     "metadata": {},
     "output_type": "execute_result"
    }
   ],
   "source": [
    "theta = np.zeros(X_train.shape[1]).reshape(X_train.shape[1], 1)\n",
    "theta.shape"
   ]
  },
  {
   "cell_type": "code",
   "execution_count": 8,
   "metadata": {},
   "outputs": [
    {
     "data": {
      "text/plain": [
       "Text(0, 0.5, 'Water flowing out of the dam (y)')"
      ]
     },
     "execution_count": 8,
     "metadata": {},
     "output_type": "execute_result"
    },
    {
     "data": {
      "image/png": "[encoded data removed]",
      "text/plain": [
       "<Figure size 576x360 with 1 Axes>"
      ]
     },
     "metadata": {
      "needs_background": "light"
     },
     "output_type": "display_data"
    }
   ],
   "source": [
    "plt.figure(figsize=(8,5))\n",
    "plt.scatter(X_train[:,1:], y_train, c='r', marker='x')\n",
    "plt.xlabel('Water level (x)')\n",
    "plt.ylabel('Water flowing out of the dam (y)')"
   ]
  },
  {
   "cell_type": "markdown",
   "metadata": {},
   "source": [
    "# Cost function"
   ]
  },
  {
   "cell_type": "code",
   "execution_count": 9,
   "metadata": {},
   "outputs": [],
   "source": [
    "def cost(X, y, theta):\n",
    "    return np.sum(np.power((np.dot(X, theta) - y), 2)) / (2*len(X))\n",
    "\n",
    "def reg_cost(X, y, theta, l=0):\n",
    "    return cost(X, y, theta) + np.sum(((l/(2*len(X))) * np.power(theta[1:], 2).squeeze()))"
   ]
  },
  {
   "cell_type": "code",
   "execution_count": 10,
   "metadata": {},
   "outputs": [
    {
     "data": {
      "text/plain": [
       "140.95412088055392"
      ]
     },
     "execution_count": 10,
     "metadata": {},
     "output_type": "execute_result"
    }
   ],
   "source": [
    "reg_cost(X_train, y_train, theta, 1)"
   ]
  },
  {
   "cell_type": "markdown",
   "metadata": {},
   "source": [
    "# Gradient"
   ]
  },
  {
   "cell_type": "code",
   "execution_count": 11,
   "metadata": {},
   "outputs": [],
   "source": [
    "def gradient(X, y, theta):\n",
    "    return np.dot((np.dot(X, theta) - y).T, X) / len(X)\n",
    "\n",
    "def reg_gradient(X, y, theta, l=0):\n",
    "    l_theta = copy.deepcopy(theta).T.squeeze()\n",
    "    l_theta[0] = 0\n",
    "    return gradient(X, y, theta) + ((l / len(X)) * l_theta)"
   ]
  },
  {
   "cell_type": "code",
   "execution_count": 12,
   "metadata": {},
   "outputs": [
    {
     "data": {
      "text/plain": [
       "array([ -11.21758933, -245.65199649])"
      ]
     },
     "execution_count": 12,
     "metadata": {},
     "output_type": "execute_result"
    }
   ],
   "source": [
    "reg_gradient(X_train, y_train, theta, 1).squeeze()"
   ]
  },
  {
   "cell_type": "markdown",
   "metadata": {},
   "source": [
    "# Gradient descent"
   ]
  },
  {
   "cell_type": "code",
   "execution_count": 13,
   "metadata": {},
   "outputs": [],
   "source": [
    "def GD(X, y, theta, l, lr, epoch):\n",
    "    temp = theta\n",
    "    _cost = []\n",
    "    \n",
    "    for i in range(epoch):\n",
    "        temp = theta.T.squeeze() - (lr * reg_gradient(X, y, theta, l).squeeze()) \n",
    "        theta = temp.reshape(-1, 1)\n",
    "        \n",
    "        c = reg_cost(X, y, theta, l)\n",
    "        _cost.append(c)\n",
    "        \n",
    "        if i % (epoch / 10) == 0:\n",
    "            print('epoch: ', i+1, 'cost:', c)\n",
    "            \n",
    "    return  theta, _cost"
   ]
  },
  {
   "cell_type": "markdown",
   "metadata": {},
   "source": [
    "# Train"
   ]
  },
  {
   "cell_type": "code",
   "execution_count": 14,
   "metadata": {},
   "outputs": [],
   "source": [
    "lr = 0.002\n",
    "epoch = 2000\n",
    "l = 0"
   ]
  },
  {
   "cell_type": "code",
   "execution_count": 15,
   "metadata": {},
   "outputs": [
    {
     "name": "stdout",
     "output_type": "stream",
     "text": [
      "epoch:  1 cost: 122.4110034273307\n",
      "epoch:  201 cost: 60.43990054245908\n",
      "epoch:  401 cost: 39.88733588367892\n",
      "epoch:  601 cost: 30.431497440110917\n",
      "epoch:  801 cost: 26.081048619960267\n",
      "epoch:  1001 cost: 24.079491058491584\n",
      "epoch:  1201 cost: 23.15861304394832\n",
      "epoch:  1401 cost: 22.734934837538443\n",
      "epoch:  1601 cost: 22.540008669520727\n",
      "epoch:  1801 cost: 22.450326900661196\n"
     ]
    }
   ],
   "source": [
    "f_theta, his_cost = GD(X_train, y_train, theta, l, lr, epoch)"
   ]
  },
  {
   "cell_type": "code",
   "execution_count": 16,
   "metadata": {},
   "outputs": [
    {
     "data": {
      "image/png": "[encoded data removed]",
      "text/plain": [
       "<Figure size 864x576 with 1 Axes>"
      ]
     },
     "metadata": {
      "needs_background": "light"
     },
     "output_type": "display_data"
    }
   ],
   "source": [
    "fig, ax = plt.subplots(figsize=(12,8))\n",
    "ax.plot(np.arange(epoch), his_cost, 'r')\n",
    "ax.set_xlabel('Iterations')\n",
    "ax.set_ylabel('Cost')\n",
    "ax.set_title('Error vs. Training Epoch')\n",
    "plt.show()"
   ]
  },
  {
   "cell_type": "code",
   "execution_count": 17,
   "metadata": {},
   "outputs": [
    {
     "data": {
      "text/plain": [
       "[<matplotlib.lines.Line2D at 0x2258f2757f0>]"
      ]
     },
     "execution_count": 17,
     "metadata": {},
     "output_type": "execute_result"
    },
    {
     "data": {
      "image/png": "[encoded data removed]",
      "text/plain": [
       "<Figure size 576x360 with 1 Axes>"
      ]
     },
     "metadata": {
      "needs_background": "light"
     },
     "output_type": "display_data"
    }
   ],
   "source": [
    "plt.figure(figsize=(8,5))\n",
    "plt.scatter(X_train[:,1:], y_train, c='r', marker='x')\n",
    "plt.xlabel('Water level (x)')\n",
    "plt.ylabel('Water flowing out of the dam (y)')\n",
    "plt.plot(X_train[:,1], np.dot(X_train, f_theta))"
   ]
  },
  {
   "cell_type": "markdown",
   "metadata": {},
   "source": [
    "# Learning curves"
   ]
  },
  {
   "cell_type": "markdown",
   "metadata": {},
   "source": [
    "Manual adjustment of gradient descent is too cumbersome, so we use sklearn here"
   ]
  },
  {
   "cell_type": "code",
   "execution_count": 18,
   "metadata": {},
   "outputs": [],
   "source": [
    "from sklearn import linear_model\n",
    "from sklearn.metrics import mean_squared_error\n",
    "\n",
    "def loss(y, y_pred):\n",
    "    return mean_squared_error(y, y_pred) / 2"
   ]
  },
  {
   "cell_type": "code",
   "execution_count": 19,
   "metadata": {},
   "outputs": [],
   "source": [
    "def learn_curves(X_train, y_train, X_val, y_val):\n",
    "    train_curves = []\n",
    "    val_curves = []\n",
    "    for i in range(1, len(X_train)+1):\n",
    "        model = linear_model.LinearRegression()\n",
    "        model.fit(X_train[:i], y_train[:i])\n",
    "\n",
    "        y_pred = model.predict(X_train[:i])\n",
    "        train_loss = loss(y_train[:i], y_pred)\n",
    "\n",
    "        train_curves.append(train_loss)\n",
    "\n",
    "        y_pred = model.predict(X_val)\n",
    "        val_loss = loss(y_val, y_pred)\n",
    "\n",
    "        val_curves.append(val_loss)\n",
    "        del model\n",
    "\n",
    "    plt.figure(figsize=(8,5))\n",
    "    plt.plot(range(1, len(X_train)+1), train_curves, label='train cost')  \n",
    "    plt.plot(range(1, len(X_train)+1), val_curves, label='val cost') \n",
    "    plt.legend()\n",
    "    plt.xlabel('Number of training examples')\n",
    "    plt.ylabel('Error')\n",
    "    plt.title('Learning curve for linear regression')"
   ]
  },
  {
   "cell_type": "code",
   "execution_count": 20,
   "metadata": {},
   "outputs": [
    {
     "data": {
      "image/png": "[encoded data removed]",
      "text/plain": [
       "<Figure size 576x360 with 1 Axes>"
      ]
     },
     "metadata": {
      "needs_background": "light"
     },
     "output_type": "display_data"
    }
   ],
   "source": [
    "learn_curves(X_train, y_train, X_val, y_val)"
   ]
  },
  {
   "cell_type": "markdown",
   "metadata": {},
   "source": [
    "# Learning polynomial regression"
   ]
  },
  {
   "cell_type": "code",
   "execution_count": 21,
   "metadata": {},
   "outputs": [],
   "source": [
    "def poly(X, power):\n",
    "    Xp = X.copy()\n",
    "    for i in range(2, power+1):\n",
    "        Xp = np.insert(Xp, Xp.shape[1], np.power(Xp[:, 1], i), axis=1)\n",
    "    return Xp\n",
    "\n",
    "def norm(X, means, stds):\n",
    "    X_norm = X.copy()\n",
    "    X_norm[:, 1:] = X_norm[:, 1:] - means[1:]\n",
    "    X_norm[:, 1:] = X_norm[:, 1:] / stds[1:]\n",
    "    return X_norm"
   ]
  },
  {
   "cell_type": "code",
   "execution_count": 22,
   "metadata": {},
   "outputs": [],
   "source": [
    "power = 6\n",
    "\n",
    "Xp_train = poly(X_train, power)\n",
    "Xp_val = poly(X_val, power)\n",
    "Xp_test = poly(X_test, power)\n",
    "\n",
    "means = np.mean(Xp_train, axis=0)\n",
    "stds = np.std(Xp_train, axis=0, ddof=1)\n",
    "\n",
    "Xp_train_norm = norm(Xp_train, means, stds)\n",
    "Xp_val_norm = norm(Xp_val, means, stds)\n",
    "Xp_test_norm = norm(Xp_test, means, stds)"
   ]
  },
  {
   "cell_type": "code",
   "execution_count": 23,
   "metadata": {},
   "outputs": [
    {
     "data": {
      "text/plain": [
       "[<matplotlib.lines.Line2D at 0x2259149a4e0>]"
      ]
     },
     "execution_count": 23,
     "metadata": {},
     "output_type": "execute_result"
    },
    {
     "data": {
      "image/png": "[encoded data removed]",
      "text/plain": [
       "<Figure size 576x360 with 1 Axes>"
      ]
     },
     "metadata": {
      "needs_background": "light"
     },
     "output_type": "display_data"
    }
   ],
   "source": [
    "model = linear_model.LinearRegression()\n",
    "model.fit(Xp_train_norm, y_train)\n",
    "\n",
    "f_theta0 = model.intercept_\n",
    "f_theta = model.coef_\n",
    "del model\n",
    "\n",
    "xx = np.linspace(-75,55,50)\n",
    "x = xx.reshape(-1, 1)\n",
    "x = np.insert(x, 0, 1, axis=1)\n",
    "xp = poly(x, power)\n",
    "xp_norm = norm(xp, means, stds)\n",
    "\n",
    "plt.figure(figsize=(8,5))\n",
    "plt.scatter(X_train[:,1:], y_train, c='r', marker='x')\n",
    "plt.xlabel('Water level (x)')\n",
    "plt.ylabel('Water flowing out of the dam (y)')\n",
    "plt.plot(xx, np.dot(xp_norm, f_theta.T)+f_theta0, 'b--')"
   ]
  },
  {
   "cell_type": "code",
   "execution_count": 24,
   "metadata": {},
   "outputs": [
    {
     "data": {
      "image/png": "[encoded data removed]",
      "text/plain": [
       "<Figure size 576x360 with 1 Axes>"
      ]
     },
     "metadata": {
      "needs_background": "light"
     },
     "output_type": "display_data"
    }
   ],
   "source": [
    "learn_curves(Xp_train_norm, y_train, Xp_val_norm, y_val)"
   ]
  },
  {
   "cell_type": "markdown",
   "metadata": {},
   "source": [
    "Well, overfit"
   ]
  },
  {
   "cell_type": "markdown",
   "metadata": {},
   "source": [
    "# Adjusting the regularization parameter"
   ]
  },
  {
   "cell_type": "code",
   "execution_count": 25,
   "metadata": {},
   "outputs": [],
   "source": [
    "lr = 0.002\n",
    "epoch = 2000\n",
    "l = 1\n",
    "theta = np.ones(Xp_train_norm.shape[1]).reshape(-1, 1)"
   ]
  },
  {
   "cell_type": "code",
   "execution_count": 26,
   "metadata": {},
   "outputs": [
    {
     "data": {
      "text/plain": [
       "(12, 7)"
      ]
     },
     "execution_count": 26,
     "metadata": {},
     "output_type": "execute_result"
    }
   ],
   "source": [
    "Xp_train_norm.shape"
   ]
  },
  {
   "cell_type": "code",
   "execution_count": 27,
   "metadata": {},
   "outputs": [
    {
     "name": "stdout",
     "output_type": "stream",
     "text": [
      "epoch:  1 cost: 106.95885145853494\n",
      "epoch:  201 cost: 47.23912370781533\n",
      "epoch:  401 cost: 25.203679221554413\n",
      "epoch:  601 cost: 15.545750031988385\n",
      "epoch:  801 cost: 11.246580892099617\n",
      "epoch:  1001 cost: 9.318284341423338\n",
      "epoch:  1201 cost: 8.44186986741007\n",
      "epoch:  1401 cost: 8.033408174745576\n",
      "epoch:  1601 cost: 7.834155711461927\n",
      "epoch:  1801 cost: 7.729324135754954\n"
     ]
    }
   ],
   "source": [
    "f_theta, his_cost = GD(Xp_train_norm, y_train, theta, l, lr, epoch)"
   ]
  },
  {
   "cell_type": "code",
   "execution_count": 28,
   "metadata": {},
   "outputs": [
    {
     "data": {
      "image/png": "[encoded data removed]",
      "text/plain": [
       "<Figure size 864x576 with 1 Axes>"
      ]
     },
     "metadata": {
      "needs_background": "light"
     },
     "output_type": "display_data"
    }
   ],
   "source": [
    "fig, ax = plt.subplots(figsize=(12,8))\n",
    "ax.plot(np.arange(epoch), his_cost, 'r')\n",
    "ax.set_xlabel('Iterations')\n",
    "ax.set_ylabel('Cost')\n",
    "ax.set_title('Error vs. Training Epoch')\n",
    "plt.show()"
   ]
  },
  {
   "cell_type": "code",
   "execution_count": 31,
   "metadata": {},
   "outputs": [
    {
     "data": {
      "text/plain": [
       "[<matplotlib.lines.Line2D at 0x2259171c710>]"
      ]
     },
     "execution_count": 31,
     "metadata": {},
     "output_type": "execute_result"
    },
    {
     "data": {
      "image/png": "[encoded data removed]",
      "text/plain": [
       "<Figure size 576x360 with 1 Axes>"
      ]
     },
     "metadata": {
      "needs_background": "light"
     },
     "output_type": "display_data"
    }
   ],
   "source": [
    "plt.figure(figsize=(8,5))\n",
    "plt.scatter(X_train[:,1:], y_train, c='r', marker='x')\n",
    "plt.xlabel('Water level (x)')\n",
    "plt.ylabel('Water flowing out of the dam (y)')\n",
    "plt.plot(xx, np.dot(xp_norm, f_theta), 'b--')"
   ]
  },
  {
   "cell_type": "markdown",
   "metadata": {},
   "source": [
    "Later, the learn curves can be approximated as the sample grows by varying the l value"
   ]
  },
  {
   "cell_type": "markdown",
   "metadata": {},
   "source": [
    "# Selecting l using a cross validation set"
   ]
  },
  {
   "cell_type": "code",
   "execution_count": 32,
   "metadata": {},
   "outputs": [],
   "source": [
    "lr = 0.002\n",
    "epoch = 2000\n",
    "l = 1\n",
    "theta = np.ones(Xp_train_norm.shape[1]).reshape(-1, 1)"
   ]
  },
  {
   "cell_type": "code",
   "execution_count": 35,
   "metadata": {},
   "outputs": [
    {
     "name": "stdout",
     "output_type": "stream",
     "text": [
      "epoch:  1 cost: 106.70214038406304\n",
      "epoch:  201 cost: 45.25881617063312\n",
      "epoch:  401 cost: 21.876977554922394\n",
      "epoch:  601 cost: 11.343518086544606\n",
      "epoch:  801 cost: 6.524277338116842\n",
      "epoch:  1001 cost: 4.303117727119328\n",
      "epoch:  1201 cost: 3.2657232086538124\n",
      "epoch:  1401 cost: 2.768342917948738\n",
      "epoch:  1601 cost: 2.5178105906345274\n",
      "epoch:  1801 cost: 2.380554477598658\n",
      "epoch:  1 cost: 106.70239717887058\n",
      "epoch:  201 cost: 45.26085133540879\n",
      "epoch:  401 cost: 21.880452623936286\n",
      "epoch:  601 cost: 11.347961068936604\n",
      "epoch:  801 cost: 6.529313721426073\n",
      "epoch:  1001 cost: 4.308498416795547\n",
      "epoch:  1201 cost: 3.271298345049852\n",
      "epoch:  1401 cost: 2.7740278325357624\n",
      "epoch:  1601 cost: 2.523559673173818\n",
      "epoch:  1801 cost: 2.386344269489768\n",
      "epoch:  1 cost: 106.70291076798273\n",
      "epoch:  201 cost: 45.264921328514895\n",
      "epoch:  401 cost: 21.887401838475174\n",
      "epoch:  601 cost: 11.356845517090045\n",
      "epoch:  801 cost: 6.539384490244243\n",
      "epoch:  1001 cost: 4.319257453572946\n",
      "epoch:  1201 cost: 3.282446046413543\n",
      "epoch:  1401 cost: 2.7853949450474373\n",
      "epoch:  1601 cost: 2.5350550306250152\n",
      "epoch:  1801 cost: 2.39792098682371\n",
      "epoch:  1 cost: 106.70470832459436\n",
      "epoch:  201 cost: 45.27916277245792\n",
      "epoch:  401 cost: 21.911714396241766\n",
      "epoch:  601 cost: 11.387925168757368\n",
      "epoch:  801 cost: 6.574611216542365\n",
      "epoch:  1001 cost: 4.356889501689943\n",
      "epoch:  1201 cost: 3.3214360208617406\n",
      "epoch:  1401 cost: 2.8251513359144362\n",
      "epoch:  1601 cost: 2.5752593252740423\n",
      "epoch:  1801 cost: 2.438409424542166\n",
      "epoch:  1 cost: 106.70984415536292\n",
      "epoch:  201 cost: 45.319822357171155\n",
      "epoch:  401 cost: 21.98109585037161\n",
      "epoch:  601 cost: 11.47658793563739\n",
      "epoch:  801 cost: 6.675079615886276\n",
      "epoch:  1001 cost: 4.4641993560415205\n",
      "epoch:  1201 cost: 3.4326051759660974\n",
      "epoch:  1401 cost: 2.9384972597623014\n",
      "epoch:  1601 cost: 2.6898768415588297\n",
      "epoch:  1801 cost: 2.553833520910024\n",
      "epoch:  1 cost: 106.72781903496876\n",
      "epoch:  201 cost: 45.46177864978418\n",
      "epoch:  401 cost: 22.22296604046835\n",
      "epoch:  601 cost: 11.785325656155555\n",
      "epoch:  801 cost: 7.024638017414538\n",
      "epoch:  1001 cost: 4.837346361237669\n",
      "epoch:  1201 cost: 3.8190237987401527\n",
      "epoch:  1401 cost: 3.332385246265323\n",
      "epoch:  1601 cost: 3.088122070383396\n",
      "epoch:  1801 cost: 2.9548414911055225\n",
      "epoch:  1 cost: 106.77917130751617\n",
      "epoch:  201 cost: 45.86436716271434\n",
      "epoch:  401 cost: 22.90583938350812\n",
      "epoch:  601 cost: 12.654063046798809\n",
      "epoch:  801 cost: 8.005839242345507\n",
      "epoch:  1001 cost: 5.882986165080733\n",
      "epoch:  1201 cost: 4.900637274333754\n",
      "epoch:  1401 cost: 4.434115499676866\n",
      "epoch:  1601 cost: 4.20153974678489\n",
      "epoch:  1801 cost: 4.0756615916755\n",
      "epoch:  1 cost: 106.95885145853494\n",
      "epoch:  201 cost: 47.23912370781533\n",
      "epoch:  401 cost: 25.203679221554413\n",
      "epoch:  601 cost: 15.545750031988385\n",
      "epoch:  801 cost: 11.246580892099617\n",
      "epoch:  1001 cost: 9.318284341423338\n",
      "epoch:  1201 cost: 8.44186986741007\n",
      "epoch:  1401 cost: 8.033408174745576\n",
      "epoch:  1601 cost: 7.834155711461927\n",
      "epoch:  1801 cost: 7.729324135754954\n",
      "epoch:  1 cost: 107.47177083107663\n",
      "epoch:  201 cost: 50.890223596378696\n",
      "epoch:  401 cost: 31.055264417214516\n",
      "epoch:  601 cost: 22.692924891302983\n",
      "epoch:  801 cost: 19.094312382378682\n",
      "epoch:  1001 cost: 17.527313507543163\n",
      "epoch:  1201 cost: 16.834702713579823\n",
      "epoch:  1401 cost: 16.521927430072992\n",
      "epoch:  1601 cost: 16.376080523724692\n",
      "epoch:  1801 cost: 16.30477941495016\n",
      "epoch:  1 cost: 109.26171385775027\n",
      "epoch:  201 cost: 61.01403266065807\n",
      "epoch:  401 cost: 45.488162001810075\n",
      "epoch:  601 cost: 39.079506831427196\n",
      "epoch:  801 cost: 36.32031516801182\n",
      "epoch:  1001 cost: 35.10851063071276\n",
      "epoch:  1201 cost: 34.57043153082027\n",
      "epoch:  1401 cost: 34.330060399843276\n",
      "epoch:  1601 cost: 34.22232238753956\n",
      "epoch:  1801 cost: 34.17394098196826\n"
     ]
    },
    {
     "data": {
      "text/plain": [
       "Text(0, 0.5, 'Error')"
      ]
     },
     "execution_count": 35,
     "metadata": {},
     "output_type": "execute_result"
    },
    {
     "data": {
      "image/png": "[encoded data removed]",
      "text/plain": [
       "<Figure size 576x360 with 1 Axes>"
      ]
     },
     "metadata": {
      "needs_background": "light"
     },
     "output_type": "display_data"
    }
   ],
   "source": [
    "lambdas = [0., 0.001, 0.003, 0.01, 0.03, 0.1, 0.3, 1., 3., 10.]\n",
    "errors_train, errors_val = [], []\n",
    "for l in lambdas:\n",
    "    f_theta, his_cost = GD(Xp_train_norm, y_train, theta, l, lr, epoch)\n",
    "    errors_train.append(reg_cost(Xp_train_norm, y_train, f_theta, l=0))  \n",
    "    errors_val.append(reg_cost(Xp_val_norm, y_val, f_theta, l=0))\n",
    "    \n",
    "plt.figure(figsize=(8,5))\n",
    "plt.plot(lambdas,errors_train,label='Train')\n",
    "plt.plot(lambdas,errors_val,label='Cross Validation')\n",
    "plt.legend()\n",
    "plt.xlabel('lambda')\n",
    "plt.ylabel('Error')"
   ]
  },
  {
   "cell_type": "code",
   "execution_count": 36,
   "metadata": {},
   "outputs": [
    {
     "data": {
      "text/plain": [
       "3.0"
      ]
     },
     "execution_count": 36,
     "metadata": {},
     "output_type": "execute_result"
    }
   ],
   "source": [
    "lambdas[np.argmin(errors_val)]"
   ]
  },
  {
   "cell_type": "markdown",
   "metadata": {},
   "source": [
    "# Computing test set error"
   ]
  },
  {
   "cell_type": "code",
   "execution_count": 37,
   "metadata": {},
   "outputs": [],
   "source": [
    "lr = 0.002\n",
    "epoch = 2000\n",
    "l = 3\n",
    "theta = np.ones(Xp_train_norm.shape[1]).reshape(-1, 1)"
   ]
  },
  {
   "cell_type": "code",
   "execution_count": 38,
   "metadata": {},
   "outputs": [
    {
     "name": "stdout",
     "output_type": "stream",
     "text": [
      "epoch:  1 cost: 107.47177083107663\n",
      "epoch:  201 cost: 50.890223596378696\n",
      "epoch:  401 cost: 31.055264417214516\n",
      "epoch:  601 cost: 22.692924891302983\n",
      "epoch:  801 cost: 19.094312382378682\n",
      "epoch:  1001 cost: 17.527313507543163\n",
      "epoch:  1201 cost: 16.834702713579823\n",
      "epoch:  1401 cost: 16.521927430072992\n",
      "epoch:  1601 cost: 16.376080523724692\n",
      "epoch:  1801 cost: 16.30477941495016\n"
     ]
    }
   ],
   "source": [
    "f_theta, his_cost = GD(Xp_train_norm, y_train, theta, l, lr, epoch)"
   ]
  },
  {
   "cell_type": "code",
   "execution_count": 39,
   "metadata": {},
   "outputs": [
    {
     "data": {
      "text/plain": [
       "4.811780016340761"
      ]
     },
     "execution_count": 39,
     "metadata": {},
     "output_type": "execute_result"
    }
   ],
   "source": [
    "reg_cost(Xp_test_norm, y_test, f_theta, l=0) # with power = 6"
   ]
  }
 ],
 "metadata": {
  "kernelspec": {
   "display_name": "Python 3",
   "language": "python",
   "name": "python3"
  },
  "language_info": {
   "codemirror_mode": {
    "name": "ipython",
    "version": 3
   },
   "file_extension": ".py",
   "mimetype": "text/x-python",
   "name": "python",
   "nbconvert_exporter": "python",
   "pygments_lexer": "ipython3",
   "version": "3.6.8"
  }
 },
 "nbformat": 4,
 "nbformat_minor": 2
}
